{
 "cells": [
  {
   "cell_type": "code",
   "execution_count": 1,
   "metadata": {},
   "outputs": [],
   "source": [
    "import torch\n",
    "import torch.nn as nn\n",
    "import numpy as np\n",
    "import matplotlib.pyplot as plt\n",
    "import torchvision\n",
    "import torchvision.transforms as transforms\n",
    "from torch.nn import functional\n",
    "import math\n",
    "import os\n",
    "\n",
    "# Hyper-parameters \n",
    "input_size = 784\n",
    "num_classes = 10\n",
    "num_epochs = 1\n",
    "batch_size = 32\n",
    "learning_rate = 1e-3\n",
    "\n",
    "# MNIST dataset (images and labels)\n",
    "train_dataset = torchvision.datasets.MNIST(root='../../data', \n",
    "                                           train=True, \n",
    "                                           transform=transforms.Compose([\n",
    "                                                              transforms.ToTensor(), # first, convert image to PyTorch tensor\n",
    "                                                              transforms.Normalize((0.1307,), (0.3081,)) # normalize inputs\n",
    "                                                          ]),\n",
    "                                           download=True)\n",
    "\n",
    "test_dataset = torchvision.datasets.MNIST(root='../../data', \n",
    "                                          train=False, \n",
    "                                          transform=transforms.Compose([\n",
    "                                                              transforms.ToTensor(), # first, convert image to PyTorch tensor\n",
    "                                                              transforms.Normalize((0.1307,), (0.3081,)) # normalize inputs\n",
    "                                                          ]))"
   ]
  },
  {
   "cell_type": "code",
   "execution_count": 2,
   "metadata": {},
   "outputs": [],
   "source": [
    "# Data loader (input pipeline)\n",
    "train_loader = torch.utils.data.DataLoader(dataset=train_dataset, \n",
    "                                           batch_size=batch_size, \n",
    "                                           shuffle=True)\n",
    "\n",
    "test_loader = torch.utils.data.DataLoader(dataset=test_dataset, \n",
    "                                          batch_size=1, \n",
    "                                          shuffle=False)"
   ]
  },
  {
   "cell_type": "markdown",
   "metadata": {},
   "source": [
    "# Binary ops"
   ]
  },
  {
   "cell_type": "code",
   "execution_count": 3,
   "metadata": {},
   "outputs": [],
   "source": [
    "class Binarize(torch.autograd.Function):\n",
    "    THRESHOLD_STE = True\n",
    "    \n",
    "    @staticmethod\n",
    "    def forward(ctx, input):\n",
    "        \"\"\"\n",
    "        We approximate the input by the following:\n",
    "        \n",
    "        input ~= sign(input) * l1_norm(input) / input.size\n",
    "        \"\"\"\n",
    "        ctx.save_for_backward(input)\n",
    "        avg = torch.mean(torch.abs(input))\n",
    "        return input.sign() * avg\n",
    "\n",
    "    @staticmethod\n",
    "    def backward(ctx, grad_output):\n",
    "        \"\"\"\n",
    "        According to [Do-Re-Fa Networks](https://arxiv.org/pdf/1606.06160.pdf),\n",
    "        the STE for binary weight networks is completely pass through.\n",
    "        \n",
    "        However, according to [Binary Neural Networks](https://arxiv.org/pdf/1602.02830.pdf),\n",
    "        and [XNOR-net networks](https://arxiv.org/pdf/1603.05279.pdf),\n",
    "        the STE must be thresholded by the following:\n",
    "        \n",
    "        d = d * (-1 <= w <= 1)\n",
    "        \n",
    "        Set THRESHOLD_STE to True/False for either behavior. However, it is suggested\n",
    "        to set it to True because we have seen performance degradations with it = False.\n",
    "        \"\"\"\n",
    "        if Binarize.THRESHOLD_STE:\n",
    "            input, = ctx.saved_tensors\n",
    "            grad_output[input.ge(1)] = 0\n",
    "            grad_output[input.le(-1)] = 0\n",
    "        return grad_output\n",
    "\n",
    "class BinaryLinear(nn.Module):\n",
    "    def __init__(self, in_features, out_features):\n",
    "        \"\"\"\n",
    "        Takes in some inputs x, and initializes some weights for matmul,\n",
    "        and performs a bitcount(xor(x, weights)).\n",
    "        \n",
    "        input = (N, M)\n",
    "        weights = (M, K)\n",
    "        \n",
    "        in_features: size of each input sample\n",
    "        out_features: size of each output sample\n",
    "        bias: If set to False, the layer will not learn an additive bias.\n",
    "            Default: ``True``\n",
    "        \"\"\"\n",
    "        super(BinaryLinear, self).__init__()\n",
    "        self.in_features = in_features\n",
    "        self.out_features = out_features\n",
    "        self.weight = torch.nn.Parameter(torch.Tensor(out_features, in_features))\n",
    "        self.bias = torch.nn.Parameter(torch.Tensor(out_features))\n",
    "        \n",
    "        # Initializing parameters\n",
    "        stdv = 1. / math.sqrt(in_features * out_features)\n",
    "        # TODO: Remove this for actual training.\n",
    "#         stdv = 100\n",
    "        self.weight.data.uniform_(-stdv, stdv)\n",
    "        if self.bias is not None:\n",
    "            self.bias.data.uniform_(-stdv, stdv)\n",
    "\n",
    "    def forward(self, input):\n",
    "        binarize = Binarize.apply\n",
    "        return functional.linear(binarize(input), binarize(self.weight), self.bias)\n",
    "        \n",
    "class BinaryConvolution2d(nn.Module):\n",
    "    def __init__(self, in_channels, out_channels, kernel_size, stride=1,\n",
    "                 padding=0, bias=True):\n",
    "        \"\"\"\n",
    "        Takes in some inputs x, and initializes some weights for conv filters,\n",
    "        and performs a \"convolution\" by binarizing the weights and multiplying\n",
    "        the inputs by the binarized weights.\n",
    "        \n",
    "        input = (N, C, H, W)\n",
    "        weights = (K, C, H, W) [ to be binarized ]\n",
    "        biases = (K,) [ to be binarized ]\n",
    "        output = (N, K, H, W)\n",
    "        \n",
    "        in_channels (int): Number of channels in the input image\n",
    "        out_channels (int): Number of channels produced by the convolution\n",
    "        kernel_size (int): Size of the convolving kernel\n",
    "        stride (int or tuple, optional): Stride of the convolution. Default: 1\n",
    "        padding (int or tuple, optional): Zero-padding added to both sides of the input. Default: 0\n",
    "        bias (bool, optional): If ``True``, adds a learnable bias to the output. Default: ``True``\n",
    "        \n",
    "        NOTE: We skip dilation, groups, etc for now.\n",
    "        \"\"\"\n",
    "        super(BinaryConvolution2d, self).__init__()\n",
    "        self.weight = torch.nn.Parameter(torch.Tensor(out_channels, in_channels, *(kernel_size, kernel_size)))\n",
    "        self.bias = torch.nn.Parameter(torch.Tensor(out_channels))\n",
    "        self.stride = stride\n",
    "        self.padding = padding\n",
    "        \n",
    "        # Initializing parameters\n",
    "        n = in_channels\n",
    "        n *= kernel_size ** 2 # number of parameters\n",
    "        stdv = 1. / math.sqrt(n)\n",
    "        # TODO: Remove this for actual training.\n",
    "#         stdv = 100\n",
    "        \n",
    "        self.weight.data.uniform_(-stdv, stdv)\n",
    "        self.bias.data.uniform_(-stdv, stdv)\n",
    "        \n",
    "    def forward(self, input):\n",
    "        binarize = Binarize.apply\n",
    "        return functional.conv2d(binarize(input), binarize(self.weight), self.bias, self.stride, self.padding)"
   ]
  },
  {
   "cell_type": "markdown",
   "metadata": {},
   "source": [
    "# Testing"
   ]
  },
  {
   "cell_type": "code",
   "execution_count": 4,
   "metadata": {},
   "outputs": [
    {
     "name": "stdout",
     "output_type": "stream",
     "text": [
      "12.962879180908203\n",
      "tensor([[ 1.3880, -1.2463,  0.7122]], requires_grad=True) tensor([[ 0.0000,  0.0000, -4.0382]])\n",
      "---\n",
      "13.271018981933594\n",
      "tensor([[ 1.3880, -1.2463,  1.0891]], requires_grad=True) tensor([[ 0.0000,  0.0000, -3.7690]])\n",
      "---\n",
      "13.656698226928711\n",
      "tensor([[ 1.3880, -1.2463,  1.0891]], requires_grad=True) tensor([[0., 0., 0.]])\n",
      "---\n",
      "13.656698226928711\n",
      "tensor([[ 1.3880, -1.2463,  1.0891]], requires_grad=True) tensor([[0., 0., 0.]])\n",
      "---\n",
      "13.656698226928711\n",
      "tensor([[ 1.3880, -1.2463,  1.0891]], requires_grad=True) tensor([[0., 0., 0.]])\n",
      "---\n",
      "13.656698226928711\n",
      "tensor([[ 1.3880, -1.2463,  1.0891]], requires_grad=True) tensor([[0., 0., 0.]])\n",
      "---\n",
      "13.656698226928711\n",
      "tensor([[ 1.3880, -1.2463,  1.0891]], requires_grad=True) tensor([[0., 0., 0.]])\n",
      "---\n",
      "13.656698226928711\n",
      "tensor([[ 1.3880, -1.2463,  1.0891]], requires_grad=True) tensor([[0., 0., 0.]])\n",
      "---\n",
      "13.656698226928711\n",
      "tensor([[ 1.3880, -1.2463,  1.0891]], requires_grad=True) tensor([[0., 0., 0.]])\n",
      "---\n",
      "13.656698226928711\n",
      "tensor([[ 1.3880, -1.2463,  1.0891]], requires_grad=True) tensor([[0., 0., 0.]])\n",
      "---\n"
     ]
    }
   ],
   "source": [
    "# Testing Binarize:\n",
    "# Create random Tensors to hold input and outputs.\n",
    "x = torch.randn(1, 3, requires_grad=True)\n",
    "w = torch.randn(1, 3, requires_grad=True)\n",
    "b = torch.randn(1, 1, requires_grad=True)\n",
    "\n",
    "binarize = Binarize.apply\n",
    "\n",
    "# Forward pass: compute predicted y using operations; we compute\n",
    "# ReLU using our custom autograd operation.\n",
    "for _ in range(10):\n",
    "    y = binarize(x)\n",
    "    loss = (y - torch.FloatTensor([1,2,3])).pow(2).sum()\n",
    "    loss.backward()\n",
    "\n",
    "    print(loss.item())\n",
    "    # Update weights using gradient descent\n",
    "    with torch.no_grad():\n",
    "        x -= x.grad * 1e-1\n",
    "        # w -= w.grad * 1e-1\n",
    "        print(x, x.grad)\n",
    "        x.grad.zero_()\n",
    "    print(\"---\")"
   ]
  },
  {
   "cell_type": "code",
   "execution_count": 5,
   "metadata": {},
   "outputs": [],
   "source": [
    "# Device configuration\n",
    "device = torch.device('cuda:0' if torch.cuda.is_available() else 'cpu')\n",
    "\n",
    "# Convolutional neural network (two convolutional layers)\n",
    "class ConvNet(nn.Module):\n",
    "    def __init__(self, num_classes=10):\n",
    "        super(ConvNet, self).__init__()\n",
    "        self.conv = nn.Sequential(\n",
    "            BinaryConvolution2d(1, 16, kernel_size=5, stride=1, padding=0),\n",
    "            nn.ReLU(),\n",
    "            nn.MaxPool2d(kernel_size=2, stride=2),\n",
    "            nn.BatchNorm2d(16),\n",
    "            BinaryConvolution2d(16, 32, kernel_size=5, stride=1, padding=0),\n",
    "            nn.ReLU(),\n",
    "            nn.MaxPool2d(kernel_size=2, stride=2),\n",
    "            nn.BatchNorm2d(32))\n",
    "        self.fc = BinaryLinear(512, num_classes)\n",
    "        \n",
    "    def forward(self, x):\n",
    "        out = self.conv(x)\n",
    "        out = out.reshape(out.size(0), -1)\n",
    "        out = self.fc(out)\n",
    "        return out"
   ]
  },
  {
   "cell_type": "code",
   "execution_count": 6,
   "metadata": {},
   "outputs": [],
   "source": [
    "def run_model():\n",
    "    model = ConvNet(num_classes).to(device)\n",
    "    # Loss and optimizer\n",
    "    criterion = nn.CrossEntropyLoss()\n",
    "    optimizer = torch.optim.Adam(model.parameters(), lr=learning_rate)\n",
    "\n",
    "    # Train the model\n",
    "    total_step = len(train_loader)\n",
    "    losses = []\n",
    "    for epoch in range(num_epochs):\n",
    "        for i, (images, labels) in enumerate(train_loader):\n",
    "            images = images.to(device)\n",
    "            labels = labels.to(device)\n",
    "\n",
    "            # Forward pass\n",
    "            outputs = model(images)\n",
    "            loss = criterion(outputs, labels)\n",
    "\n",
    "            # Backward and optimize\n",
    "            optimizer.zero_grad()\n",
    "            loss.backward()\n",
    "            optimizer.step()\n",
    "\n",
    "            if (i+1) % 50 == 0:\n",
    "                print ('Epoch [{}/{}], Step [{}/{}], Loss: {:.4f}' \n",
    "                       .format(epoch+1, num_epochs, i+1, total_step, loss.item()))\n",
    "                losses.append(loss.item())\n",
    "    \n",
    "    ###\n",
    "    # Test the model\n",
    "    model.eval()  # eval mode (batchnorm uses moving mean/variance instead of mini-batch mean/variance)\n",
    "    with torch.no_grad():\n",
    "        correct = 0\n",
    "        total = 0\n",
    "        for images, labels in test_loader:\n",
    "            images = images.to(device)\n",
    "            labels = labels.to(device)\n",
    "            outputs = model(images)\n",
    "            _, predicted = torch.max(outputs.data, 1)\n",
    "            total += labels.size(0)\n",
    "            correct += (predicted == labels).sum().item()\n",
    "        acc = 100 * correct / total\n",
    "        print('Test Accuracy of the model on the 10000 test images: {} %'.format(acc))\n",
    "\n",
    "    # Save the model checkpoint\n",
    "    torch.save(model.state_dict(), 'model.ckpt')\n",
    "    return acc, losses, model"
   ]
  },
  {
   "cell_type": "markdown",
   "metadata": {},
   "source": [
    "# Runs the model"
   ]
  },
  {
   "cell_type": "code",
   "execution_count": 7,
   "metadata": {},
   "outputs": [
    {
     "name": "stdout",
     "output_type": "stream",
     "text": [
      "Epoch [1/1], Step [50/1875], Loss: 0.9558\n",
      "Epoch [1/1], Step [100/1875], Loss: 0.7956\n",
      "Epoch [1/1], Step [150/1875], Loss: 0.5258\n",
      "Epoch [1/1], Step [200/1875], Loss: 0.3214\n",
      "Epoch [1/1], Step [250/1875], Loss: 0.3723\n",
      "Epoch [1/1], Step [300/1875], Loss: 0.3148\n",
      "Epoch [1/1], Step [350/1875], Loss: 0.4053\n",
      "Epoch [1/1], Step [400/1875], Loss: 0.2025\n",
      "Epoch [1/1], Step [450/1875], Loss: 0.2150\n",
      "Epoch [1/1], Step [500/1875], Loss: 0.1592\n",
      "Epoch [1/1], Step [550/1875], Loss: 0.2790\n",
      "Epoch [1/1], Step [600/1875], Loss: 0.3174\n",
      "Epoch [1/1], Step [650/1875], Loss: 0.0901\n",
      "Epoch [1/1], Step [700/1875], Loss: 0.1215\n",
      "Epoch [1/1], Step [750/1875], Loss: 0.0891\n",
      "Epoch [1/1], Step [800/1875], Loss: 0.0938\n",
      "Epoch [1/1], Step [850/1875], Loss: 0.1423\n",
      "Epoch [1/1], Step [900/1875], Loss: 0.0669\n",
      "Epoch [1/1], Step [950/1875], Loss: 0.0637\n",
      "Epoch [1/1], Step [1000/1875], Loss: 0.0762\n",
      "Epoch [1/1], Step [1050/1875], Loss: 0.2898\n",
      "Epoch [1/1], Step [1100/1875], Loss: 0.0923\n",
      "Epoch [1/1], Step [1150/1875], Loss: 0.1308\n",
      "Epoch [1/1], Step [1200/1875], Loss: 0.0471\n",
      "Epoch [1/1], Step [1250/1875], Loss: 0.0736\n",
      "Epoch [1/1], Step [1300/1875], Loss: 0.0609\n",
      "Epoch [1/1], Step [1350/1875], Loss: 0.0478\n",
      "Epoch [1/1], Step [1400/1875], Loss: 0.1060\n",
      "Epoch [1/1], Step [1450/1875], Loss: 0.1686\n",
      "Epoch [1/1], Step [1500/1875], Loss: 0.2462\n",
      "Epoch [1/1], Step [1550/1875], Loss: 0.0899\n",
      "Epoch [1/1], Step [1600/1875], Loss: 0.2148\n",
      "Epoch [1/1], Step [1650/1875], Loss: 0.1255\n",
      "Epoch [1/1], Step [1700/1875], Loss: 0.2097\n",
      "Epoch [1/1], Step [1750/1875], Loss: 0.0733\n",
      "Epoch [1/1], Step [1800/1875], Loss: 0.0554\n",
      "Epoch [1/1], Step [1850/1875], Loss: 0.1649\n",
      "Test Accuracy of the model on the 10000 test images: 96.57 %\n"
     ]
    }
   ],
   "source": [
    "runs = 1\n",
    "\n",
    "performance = []\n",
    "loss_hist = []\n",
    "for _ in range(runs):\n",
    "    acc, losses, model = run_model()\n",
    "    performance.append(acc)\n",
    "    loss_hist.append(losses)"
   ]
  },
  {
   "cell_type": "markdown",
   "metadata": {},
   "source": [
    "# Extracting the parameters"
   ]
  },
  {
   "cell_type": "code",
   "execution_count": 12,
   "metadata": {},
   "outputs": [
    {
     "name": "stdout",
     "output_type": "stream",
     "text": [
      "ConvNet(\n",
      "  (conv): Sequential(\n",
      "    (0): BinaryConvolution2d()\n",
      "    (1): ReLU()\n",
      "    (2): MaxPool2d(kernel_size=2, stride=2, padding=0, dilation=1, ceil_mode=False)\n",
      "    (3): BatchNorm2d(16, eps=1e-05, momentum=0.1, affine=True, track_running_stats=True)\n",
      "    (4): BinaryConvolution2d()\n",
      "    (5): ReLU()\n",
      "    (6): MaxPool2d(kernel_size=2, stride=2, padding=0, dilation=1, ceil_mode=False)\n",
      "    (7): BatchNorm2d(32, eps=1e-05, momentum=0.1, affine=True, track_running_stats=True)\n",
      "  )\n",
      "  (fc): BinaryLinear()\n",
      ") \n",
      "\n",
      " dict_keys(['conv.0.weight', 'conv.0.bias', 'conv.3.weight', 'conv.3.bias', 'conv.4.weight', 'conv.4.bias', 'conv.7.weight', 'conv.7.bias', 'fc.weight', 'fc.bias'])\n"
     ]
    }
   ],
   "source": [
    "# mp = model parameters\n",
    "mp = dict(model.named_parameters())\n",
    "print(model, '\\n\\n', mp.keys())\n",
    "conv_children = list(model.conv.children())"
   ]
  },
  {
   "cell_type": "code",
   "execution_count": 19,
   "metadata": {},
   "outputs": [],
   "source": [
    "params = {\n",
    "    'bconv1': {\n",
    "        'weight': mp['conv.0.weight'].detach(),\n",
    "        'bias': mp['conv.0.bias'].detach(),\n",
    "    },\n",
    "    'batchnorm1': {\n",
    "        'weight': mp['conv.3.weight'].detach(),\n",
    "        'bias': mp['conv.3.bias'].detach(),\n",
    "        'mean': conv_children[3].running_mean,\n",
    "        'var': conv_children[3].running_var,\n",
    "    },\n",
    "    'bconv2': {\n",
    "        'weight': mp['conv.4.weight'].detach(),\n",
    "        'bias': mp['conv.4.bias'].detach(),\n",
    "    },\n",
    "    'batchnorm2': {\n",
    "        'weight': mp['conv.7.weight'].detach(),\n",
    "        'bias': mp['conv.7.bias'].detach(),\n",
    "        'mean': conv_children[7].running_mean,\n",
    "        'var': conv_children[7].running_var,\n",
    "    },\n",
    "    'bfc1': {\n",
    "        'weight': mp['fc.weight'].detach(),\n",
    "        'bias': mp['fc.bias'].detach(),\n",
    "    },\n",
    "}\n",
    "\n",
    "for k in params:\n",
    "    if os.path.exists(k):\n",
    "        assert os.path.isdir(k), '{k} already exists but is not a directory.'.format(k=k)\n",
    "    else:\n",
    "        os.mkdir(k)\n",
    "    for f in params[k]:\n",
    "        # Create a directory `k`, and inside create `f`.npy files containing the np arrays\n",
    "        with open(os.path.join(k, f+'.npy'), 'xb+') as fileobj:\n",
    "            np.save(fileobj, params[k][f].numpy())"
   ]
  },
  {
   "cell_type": "markdown",
   "metadata": {},
   "source": [
    "# Plot performance graph"
   ]
  },
  {
   "cell_type": "code",
   "execution_count": null,
   "metadata": {},
   "outputs": [],
   "source": [
    "print(\"Average performance : \", np.mean(performance))\n",
    "for losses in loss_hist:\n",
    "    plt.plot(losses)\n",
    "plt.xlabel('Steps (x50 iterations)')\n",
    "plt.ylabel('Loss')\n",
    "plt.show()"
   ]
  },
  {
   "cell_type": "code",
   "execution_count": null,
   "metadata": {},
   "outputs": [],
   "source": [
    "# Convolutional neural network (two convolutional layers)\n",
    "# class ConvNet(nn.Module):\n",
    "#     def __init__(self, num_classes=10):\n",
    "#         super(ConvNet, self).__init__()\n",
    "#         self.layer1 = nn.Sequential(\n",
    "#             BinaryConvolution2d(1, 16, kernel_size=5, stride=1, padding=2),\n",
    "#         )\n",
    "        \n",
    "#     def forward(self, x):\n",
    "#         out = self.layer1(x)\n",
    "#         return out"
   ]
  },
  {
   "cell_type": "markdown",
   "metadata": {},
   "source": [
    "# Extracting individual layers"
   ]
  },
  {
   "cell_type": "code",
   "execution_count": null,
   "metadata": {},
   "outputs": [],
   "source": [
    "def get_conv_params(im):\n",
    "    model = BinaryConvolution2d(1, 16, kernel_size=5, stride=1, padding=0).to(device)\n",
    "\n",
    "    res = model(im).detach().numpy()\n",
    "    params = dict(model.named_parameters())\n",
    "    w = params['weight'].detach().numpy()\n",
    "    b = params['bias'].detach().numpy()\n",
    "\n",
    "    print(\"param shapes:\", res.shape, w.shape, b.shape)\n",
    "    return res, w, b\n",
    "\n",
    "def get_fc_params(flat_im):\n",
    "    model = BinaryLinear(784, 100, ).to(device)\n",
    "\n",
    "    res = model(flat_im).detach().numpy()\n",
    "    params = dict(model.named_parameters())\n",
    "    w = params['weight'].detach().numpy()\n",
    "    b = params['bias'].detach().numpy()\n",
    "\n",
    "    print(\"param shapes:\", res.shape, w.shape, b.shape)\n",
    "    return res, w, b"
   ]
  },
  {
   "cell_type": "code",
   "execution_count": null,
   "metadata": {},
   "outputs": [],
   "source": [
    "im_torch, lab = iter(test_loader).next()\n",
    "im = im_torch.numpy()\n",
    "c_res, c_w, c_b = get_conv_params(im_torch)"
   ]
  },
  {
   "cell_type": "code",
   "execution_count": null,
   "metadata": {},
   "outputs": [],
   "source": [
    "flat_im_torch = im_torch.reshape(im_torch.size(0), -1)\n",
    "flat_im = flat_im_torch.numpy()\n",
    "fc_res, fc_w, fc_b = get_fc_params(flat_im_torch)"
   ]
  },
  {
   "cell_type": "markdown",
   "metadata": {},
   "source": [
    "# Save these parameters"
   ]
  },
  {
   "cell_type": "code",
   "execution_count": null,
   "metadata": {},
   "outputs": [],
   "source": [
    "with open('conv_matrices/c_res.npy', 'wb+') as f:\n",
    "    np.save(f, c_res)\n",
    "with open('conv_matrices/c_w.npy', 'wb+') as f:\n",
    "    np.save(f, c_w)\n",
    "with open('conv_matrices/c_b.npy', 'wb+') as f:\n",
    "    np.save(f, c_b)"
   ]
  },
  {
   "cell_type": "code",
   "execution_count": null,
   "metadata": {},
   "outputs": [],
   "source": [
    "with open('fc_matrices/fc_res.npy', 'wb+') as f:\n",
    "    np.save(f, fc_res)\n",
    "with open('fc_matrices/fc_w.npy', 'wb+') as f:\n",
    "    np.save(f, fc_w)\n",
    "with open('fc_matrices/fc_b.npy', 'wb+') as f:\n",
    "    np.save(f, fc_b)"
   ]
  },
  {
   "cell_type": "code",
   "execution_count": null,
   "metadata": {},
   "outputs": [],
   "source": [
    "with open('input_matrices/im.npy', 'wb+') as f:\n",
    "    np.save(f, im)\n",
    "with open('input_matrices/flat_im.npy', 'wb+') as f:\n",
    "    np.save(f, flat_im)"
   ]
  },
  {
   "cell_type": "code",
   "execution_count": null,
   "metadata": {},
   "outputs": [],
   "source": [
    "b_w = np.sign(fc_w) * np.mean(np.abs(fc_w))\n",
    "b_b = np.sign(fc_b) * np.mean(np.abs(fc_b))\n",
    "b_x = np.sign(flat_im) * np.mean(np.abs(flat_im))"
   ]
  },
  {
   "cell_type": "code",
   "execution_count": null,
   "metadata": {},
   "outputs": [],
   "source": [
    "binarize = Binarize.apply\n",
    "c_w_torch = torch.from_numpy(c_w)\n",
    "c_b_torch = torch.from_numpy(c_b)\n",
    "c_res_torch = functional.conv2d(binarize(im_torch), binarize(c_w_torch), c_b_torch, 1, 2)"
   ]
  },
  {
   "cell_type": "code",
   "execution_count": null,
   "metadata": {},
   "outputs": [],
   "source": [
    "print(c_res)"
   ]
  },
  {
   "cell_type": "code",
   "execution_count": null,
   "metadata": {},
   "outputs": [],
   "source": []
  },
  {
   "cell_type": "code",
   "execution_count": null,
   "metadata": {},
   "outputs": [],
   "source": []
  },
  {
   "cell_type": "code",
   "execution_count": null,
   "metadata": {},
   "outputs": [],
   "source": []
  },
  {
   "cell_type": "code",
   "execution_count": null,
   "metadata": {},
   "outputs": [],
   "source": []
  },
  {
   "cell_type": "code",
   "execution_count": null,
   "metadata": {},
   "outputs": [],
   "source": []
  }
 ],
 "metadata": {
  "kernelspec": {
   "display_name": "Python 3",
   "language": "python",
   "name": "python3"
  },
  "language_info": {
   "codemirror_mode": {
    "name": "ipython",
    "version": 3
   },
   "file_extension": ".py",
   "mimetype": "text/x-python",
   "name": "python",
   "nbconvert_exporter": "python",
   "pygments_lexer": "ipython3",
   "version": "3.6.3"
  }
 },
 "nbformat": 4,
 "nbformat_minor": 2
}
