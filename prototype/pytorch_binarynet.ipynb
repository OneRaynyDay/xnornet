{
 "cells": [
  {
   "cell_type": "code",
   "execution_count": 1,
   "metadata": {},
   "outputs": [],
   "source": [
    "import torch\n",
    "import torch.nn as nn\n",
    "import numpy as np\n",
    "import matplotlib.pyplot as plt\n",
    "import torchvision\n",
    "import torchvision.transforms as transforms\n",
    "from torch.nn import functional\n",
    "import math\n",
    "\n",
    "# Hyper-parameters \n",
    "input_size = 784\n",
    "num_classes = 10\n",
    "num_epochs = 1\n",
    "batch_size = 32\n",
    "learning_rate = 1e-3\n",
    "\n",
    "# MNIST dataset (images and labels)\n",
    "train_dataset = torchvision.datasets.MNIST(root='../../data', \n",
    "                                           train=True, \n",
    "                                           transform=transforms.Compose([\n",
    "                                                              transforms.ToTensor(), # first, convert image to PyTorch tensor\n",
    "                                                              transforms.Normalize((0.1307,), (0.3081,)) # normalize inputs\n",
    "                                                          ]),\n",
    "                                           download=True)\n",
    "\n",
    "test_dataset = torchvision.datasets.MNIST(root='../../data', \n",
    "                                          train=False, \n",
    "                                          transform=transforms.Compose([\n",
    "                                                              transforms.ToTensor(), # first, convert image to PyTorch tensor\n",
    "                                                              transforms.Normalize((0.1307,), (0.3081,)) # normalize inputs\n",
    "                                                          ]))"
   ]
  },
  {
   "cell_type": "code",
   "execution_count": 2,
   "metadata": {},
   "outputs": [],
   "source": [
    "# Data loader (input pipeline)\n",
    "train_loader = torch.utils.data.DataLoader(dataset=train_dataset, \n",
    "                                           batch_size=batch_size, \n",
    "                                           shuffle=True)\n",
    "\n",
    "test_loader = torch.utils.data.DataLoader(dataset=test_dataset, \n",
    "                                          batch_size=batch_size, \n",
    "                                          shuffle=False)"
   ]
  },
  {
   "cell_type": "markdown",
   "metadata": {},
   "source": [
    "# Binary ops"
   ]
  },
  {
   "cell_type": "code",
   "execution_count": 3,
   "metadata": {},
   "outputs": [],
   "source": [
    "class Binarize(torch.autograd.Function):\n",
    "    THRESHOLD_STE = True\n",
    "    \n",
    "    @staticmethod\n",
    "    def forward(ctx, input):\n",
    "        \"\"\"\n",
    "        We approximate the input by the following:\n",
    "        \n",
    "        input ~= sign(input) * l1_norm(input) / input.size\n",
    "        \"\"\"\n",
    "        ctx.save_for_backward(input)\n",
    "        return input.sign() * torch.mean(torch.abs(input))\n",
    "\n",
    "    @staticmethod\n",
    "    def backward(ctx, grad_output):\n",
    "        \"\"\"\n",
    "        According to [Do-Re-Fa Networks](https://arxiv.org/pdf/1606.06160.pdf),\n",
    "        the STE for binary weight networks is completely pass through.\n",
    "        \n",
    "        However, according to [Binary Neural Networks](https://arxiv.org/pdf/1602.02830.pdf),\n",
    "        and [XNOR-net networks](https://arxiv.org/pdf/1603.05279.pdf),\n",
    "        the STE must be thresholded by the following:\n",
    "        \n",
    "        d = d * (-1 <= w <= 1)\n",
    "        \n",
    "        Set THRESHOLD_STE to True/False for either behavior. However, it is suggested\n",
    "        to set it to True because we have seen performance degradations with it = False.\n",
    "        \"\"\"\n",
    "        if Binarize.THRESHOLD_STE:\n",
    "            input, = ctx.saved_tensors\n",
    "            grad_output[input.ge(1)] = 0\n",
    "            grad_output[input.le(-1)] = 0\n",
    "        return grad_output\n",
    "\n",
    "class BinaryLinear(nn.Module):\n",
    "    def __init__(self, in_features, out_features):\n",
    "        \"\"\"\n",
    "        Takes in some inputs x, and initializes some weights for matmul,\n",
    "        and performs a bitcount(xor(x, weights)).\n",
    "        \n",
    "        input = (N, M)\n",
    "        weights = (M, K)\n",
    "        \n",
    "        in_features: size of each input sample\n",
    "        out_features: size of each output sample\n",
    "        bias: If set to False, the layer will not learn an additive bias.\n",
    "            Default: ``True``\n",
    "        \"\"\"\n",
    "        super(BinaryLinear, self).__init__()\n",
    "        self.in_features = in_features\n",
    "        self.out_features = out_features\n",
    "        self.weight = torch.nn.Parameter(torch.Tensor(out_features, in_features))\n",
    "        self.bias = torch.nn.Parameter(torch.Tensor(out_features))\n",
    "        \n",
    "        # Initializing parameters\n",
    "        stdv = 1. / math.sqrt(in_features * out_features)\n",
    "        self.weight.data.uniform_(-stdv, stdv)\n",
    "        if self.bias is not None:\n",
    "            self.bias.data.uniform_(-stdv, stdv)\n",
    "\n",
    "    def forward(self, input):\n",
    "        binarize = Binarize.apply\n",
    "        return functional.linear(binarize(input), binarize(self.weight), binarize(self.bias))\n",
    "        \n",
    "class BinaryConvolution2d(nn.Module):\n",
    "    def __init__(self, in_channels, out_channels, kernel_size, stride=1,\n",
    "                 padding=0, bias=True):\n",
    "        \"\"\"\n",
    "        Takes in some inputs x, and initializes some weights for conv filters,\n",
    "        and performs a \"convolution\" by binarizing the weights and multiplying\n",
    "        the inputs by the binarized weights.\n",
    "        \n",
    "        input = (N, C, H, W)\n",
    "        weights = (K, C, H, W) [ to be binarized ]\n",
    "        biases = (K,) [ to be binarized ]\n",
    "        output = (N, K, H, W)\n",
    "        \n",
    "        in_channels (int): Number of channels in the input image\n",
    "        out_channels (int): Number of channels produced by the convolution\n",
    "        kernel_size (int): Size of the convolving kernel\n",
    "        stride (int or tuple, optional): Stride of the convolution. Default: 1\n",
    "        padding (int or tuple, optional): Zero-padding added to both sides of the input. Default: 0\n",
    "        bias (bool, optional): If ``True``, adds a learnable bias to the output. Default: ``True``\n",
    "        \n",
    "        NOTE: We skip dilation, groups, etc for now.\n",
    "        \"\"\"\n",
    "        super(BinaryConvolution2d, self).__init__()\n",
    "        self.weight = torch.nn.Parameter(torch.Tensor(out_channels, in_channels, *(kernel_size, kernel_size)))\n",
    "        self.bias = torch.nn.Parameter(torch.Tensor(out_channels))\n",
    "        self.stride = stride\n",
    "        self.padding = padding\n",
    "        \n",
    "        # Initializing parameters\n",
    "        n = in_channels\n",
    "        n *= kernel_size ** 2 # number of parameters\n",
    "        stdv = 1. / math.sqrt(n)\n",
    "        self.weight.data.uniform_(-stdv, stdv)\n",
    "        self.bias.data.uniform_(-stdv, stdv)\n",
    "        \n",
    "    def forward(self, input):\n",
    "        binarize = Binarize.apply\n",
    "        return functional.conv2d(binarize(input), binarize(self.weight), binarize(self.bias), self.stride, self.padding)"
   ]
  },
  {
   "cell_type": "markdown",
   "metadata": {},
   "source": [
    "# Testing"
   ]
  },
  {
   "cell_type": "code",
   "execution_count": 4,
   "metadata": {},
   "outputs": [
    {
     "name": "stdout",
     "output_type": "stream",
     "text": [
      "27.66064453125\n",
      "tensor([[-1.0949, -1.4828,  0.5887]], requires_grad=True) tensor([[ 0.0000,  0.0000, -7.8493]])\n",
      "---\n",
      "17.34217071533203\n",
      "tensor([[-1.0949, -1.4828,  0.9776]], requires_grad=True) tensor([[ 0.0000,  0.0000, -3.8890]])\n",
      "---\n",
      "18.213546752929688\n",
      "tensor([[-1.0949, -1.4828,  1.3406]], requires_grad=True) tensor([[ 0.0000,  0.0000, -3.6298]])\n",
      "---\n",
      "19.1178035736084\n",
      "tensor([[-1.0949, -1.4828,  1.3406]], requires_grad=True) tensor([[0., 0., 0.]])\n",
      "---\n",
      "19.1178035736084\n",
      "tensor([[-1.0949, -1.4828,  1.3406]], requires_grad=True) tensor([[0., 0., 0.]])\n",
      "---\n",
      "19.1178035736084\n",
      "tensor([[-1.0949, -1.4828,  1.3406]], requires_grad=True) tensor([[0., 0., 0.]])\n",
      "---\n",
      "19.1178035736084\n",
      "tensor([[-1.0949, -1.4828,  1.3406]], requires_grad=True) tensor([[0., 0., 0.]])\n",
      "---\n",
      "19.1178035736084\n",
      "tensor([[-1.0949, -1.4828,  1.3406]], requires_grad=True) tensor([[0., 0., 0.]])\n",
      "---\n",
      "19.1178035736084\n",
      "tensor([[-1.0949, -1.4828,  1.3406]], requires_grad=True) tensor([[0., 0., 0.]])\n",
      "---\n",
      "19.1178035736084\n",
      "tensor([[-1.0949, -1.4828,  1.3406]], requires_grad=True) tensor([[0., 0., 0.]])\n",
      "---\n"
     ]
    }
   ],
   "source": [
    "# Testing Binarize:\n",
    "# Create random Tensors to hold input and outputs.\n",
    "x = torch.randn(1, 3, requires_grad=True)\n",
    "w = torch.randn(1, 3, requires_grad=True)\n",
    "b = torch.randn(1, 1, requires_grad=True)\n",
    "\n",
    "binarize = Binarize.apply\n",
    "\n",
    "# Forward pass: compute predicted y using operations; we compute\n",
    "# ReLU using our custom autograd operation.\n",
    "for _ in range(10):\n",
    "    y = binarize(x)\n",
    "    loss = (y - torch.FloatTensor([1,2,3])).pow(2).sum()\n",
    "    loss.backward()\n",
    "\n",
    "    print(loss.item())\n",
    "    # Update weights using gradient descent\n",
    "    with torch.no_grad():\n",
    "        x -= x.grad * 1e-1\n",
    "        # w -= w.grad * 1e-1\n",
    "        print(x, x.grad)\n",
    "        x.grad.zero_()\n",
    "    print(\"---\")"
   ]
  },
  {
   "cell_type": "code",
   "execution_count": 5,
   "metadata": {},
   "outputs": [],
   "source": [
    "# Device configuration\n",
    "device = torch.device('cuda:0' if torch.cuda.is_available() else 'cpu')\n",
    "\n",
    "# Convolutional neural network (two convolutional layers)\n",
    "class ConvNet(nn.Module):\n",
    "    def __init__(self, num_classes=10):\n",
    "        super(ConvNet, self).__init__()\n",
    "        self.layer1 = nn.Sequential(\n",
    "            BinaryConvolution2d(1, 16, kernel_size=5, stride=1, padding=2),\n",
    "            # nn.Conv2d(1, 16, kernel_size=5, stride=1, padding=2),\n",
    "            nn.ReLU(),\n",
    "            nn.MaxPool2d(kernel_size=2, stride=2)\n",
    "        )\n",
    "        self.layer2 = nn.Sequential(\n",
    "            nn.BatchNorm2d(16),\n",
    "            BinaryConvolution2d(16, 32, kernel_size=5, stride=1, padding=2),\n",
    "            # nn.Conv2d(16, 32, kernel_size=5, stride=1, padding=2),\n",
    "            nn.ReLU(),\n",
    "            nn.MaxPool2d(kernel_size=2, stride=2),\n",
    "            # nn.BatchNorm2d(32),\n",
    "        )\n",
    "        # self.fc = nn.Linear(7*7*32, num_classes) \n",
    "        self.fc = BinaryLinear(7*7*32, num_classes)\n",
    "        \n",
    "    def forward(self, x):\n",
    "        out = self.layer1(x)\n",
    "        out = self.layer2(out)\n",
    "        # Flatten\n",
    "        out = out.reshape(out.size(0), -1)\n",
    "        out = self.fc(out)\n",
    "        return out"
   ]
  },
  {
   "cell_type": "code",
   "execution_count": 6,
   "metadata": {},
   "outputs": [],
   "source": [
    "def run_model():\n",
    "    model = ConvNet(num_classes).to(device)\n",
    "    # Loss and optimizer\n",
    "    criterion = nn.CrossEntropyLoss()\n",
    "    optimizer = torch.optim.Adam(model.parameters(), lr=learning_rate)\n",
    "\n",
    "    # Train the model\n",
    "    total_step = len(train_loader)\n",
    "    losses = []\n",
    "    for epoch in range(num_epochs):\n",
    "        for i, (images, labels) in enumerate(train_loader):\n",
    "            images = images.to(device)\n",
    "            labels = labels.to(device)\n",
    "\n",
    "            # Forward pass\n",
    "            outputs = model(images)\n",
    "            loss = criterion(outputs, labels)\n",
    "\n",
    "            # Backward and optimize\n",
    "            optimizer.zero_grad()\n",
    "            loss.backward()\n",
    "            optimizer.step()\n",
    "\n",
    "            if (i+1) % 50 == 0:\n",
    "                print ('Epoch [{}/{}], Step [{}/{}], Loss: {:.4f}' \n",
    "                       .format(epoch+1, num_epochs, i+1, total_step, loss.item()))\n",
    "                losses.append(loss.item())\n",
    "    \n",
    "    ###\n",
    "    # Test the model\n",
    "    model.eval()  # eval mode (batchnorm uses moving mean/variance instead of mini-batch mean/variance)\n",
    "    with torch.no_grad():\n",
    "        correct = 0\n",
    "        total = 0\n",
    "        for images, labels in test_loader:\n",
    "            images = images.to(device)\n",
    "            labels = labels.to(device)\n",
    "            outputs = model(images)\n",
    "            _, predicted = torch.max(outputs.data, 1)\n",
    "            total += labels.size(0)\n",
    "            correct += (predicted == labels).sum().item()\n",
    "        acc = 100 * correct / total\n",
    "        print('Test Accuracy of the model on the 10000 test images: {} %'.format(acc))\n",
    "\n",
    "    # Save the model checkpoint\n",
    "    torch.save(model.state_dict(), 'model.ckpt')\n",
    "    return acc, losses"
   ]
  },
  {
   "cell_type": "markdown",
   "metadata": {},
   "source": [
    "# Runs the model"
   ]
  },
  {
   "cell_type": "code",
   "execution_count": 7,
   "metadata": {},
   "outputs": [],
   "source": [
    "# runs = 5\n",
    "\n",
    "# performance = []\n",
    "# loss_hist = []\n",
    "# for _ in range(runs):\n",
    "#     acc, losses = run_model()\n",
    "#     performance.append(acc)\n",
    "#     loss_hist.append(losses)\n",
    "    \n",
    "# print(\"Average performance : \", np.mean(performance))\n",
    "# for losses in loss_hist:\n",
    "#     plt.plot(losses)\n",
    "# plt.xlabel('Steps (x50 iterations)')\n",
    "# plt.ylabel('Loss')\n",
    "# plt.show()"
   ]
  },
  {
   "cell_type": "code",
   "execution_count": 8,
   "metadata": {},
   "outputs": [],
   "source": [
    "# Convolutional neural network (two convolutional layers)\n",
    "# class ConvNet(nn.Module):\n",
    "#     def __init__(self, num_classes=10):\n",
    "#         super(ConvNet, self).__init__()\n",
    "#         self.layer1 = nn.Sequential(\n",
    "#             BinaryConvolution2d(1, 16, kernel_size=5, stride=1, padding=2),\n",
    "#         )\n",
    "        \n",
    "#     def forward(self, x):\n",
    "#         out = self.layer1(x)\n",
    "#         return out"
   ]
  },
  {
   "cell_type": "markdown",
   "metadata": {},
   "source": [
    "# Extracting individual layers"
   ]
  },
  {
   "cell_type": "code",
   "execution_count": 9,
   "metadata": {},
   "outputs": [],
   "source": [
    "im, lab = iter(train_loader).next()\n",
    "\n",
    "def get_conv_params(im):\n",
    "    model = BinaryConvolution2d(1, 16, kernel_size=5, stride=1, padding=2).to(device)\n",
    "\n",
    "    res = model(im).detach().numpy()\n",
    "    params = dict(model.named_parameters())\n",
    "    w = params['weight'].detach().numpy()\n",
    "    b = params['bias'].detach().numpy()\n",
    "\n",
    "    print(\"param shapes:\", res.shape, w.shape, b.shape)\n",
    "    return res, w, b\n",
    "\n",
    "def get_fc_params(flat_im):\n",
    "    model = BinaryLinear(784, 100).to(device)\n",
    "\n",
    "    res = model(flat_im).detach().numpy()\n",
    "    params = dict(model.named_parameters())\n",
    "    w = params['weight'].detach().numpy()\n",
    "    b = params['bias'].detach().numpy()\n",
    "\n",
    "    print(\"param shapes:\", res.shape, w.shape, b.shape)\n",
    "    return res, w, b"
   ]
  },
  {
   "cell_type": "code",
   "execution_count": 10,
   "metadata": {},
   "outputs": [
    {
     "name": "stdout",
     "output_type": "stream",
     "text": [
      "param shapes: (32, 16, 28, 28) (16, 1, 5, 5) (16,)\n"
     ]
    }
   ],
   "source": [
    "c_res, c_w, c_b = get_conv_params(im)"
   ]
  },
  {
   "cell_type": "code",
   "execution_count": 11,
   "metadata": {},
   "outputs": [
    {
     "name": "stdout",
     "output_type": "stream",
     "text": [
      "torch.Size([32, 784])\n"
     ]
    }
   ],
   "source": [
    "flat_im = im.reshape(im.size(0), -1)\n",
    "print(flat_im.shape)"
   ]
  },
  {
   "cell_type": "code",
   "execution_count": 12,
   "metadata": {},
   "outputs": [
    {
     "name": "stdout",
     "output_type": "stream",
     "text": [
      "param shapes: (32, 100) (100, 784) (100,)\n"
     ]
    }
   ],
   "source": [
    "fc_res, fc_w, fc_b = get_fc_params(flat_im)"
   ]
  },
  {
   "cell_type": "markdown",
   "metadata": {},
   "source": [
    "# Save these parameters"
   ]
  },
  {
   "cell_type": "code",
   "execution_count": null,
   "metadata": {},
   "outputs": [],
   "source": [
    "with open('m1.npy', 'ab+') as f:\n",
    "    np.save(f, m)\n",
    "with open('w1.npy', 'ab+') as f:\n",
    "    np.save(f, w)\n",
    "with open('r1.npy', 'ab+') as f:\n",
    "    np.save(f, r)"
   ]
  }
 ],
 "metadata": {
  "kernelspec": {
   "display_name": "Python 3",
   "language": "python",
   "name": "python3"
  },
  "language_info": {
   "codemirror_mode": {
    "name": "ipython",
    "version": 3
   },
   "file_extension": ".py",
   "mimetype": "text/x-python",
   "name": "python",
   "nbconvert_exporter": "python",
   "pygments_lexer": "ipython3",
   "version": "3.6.3"
  }
 },
 "nbformat": 4,
 "nbformat_minor": 2
}
